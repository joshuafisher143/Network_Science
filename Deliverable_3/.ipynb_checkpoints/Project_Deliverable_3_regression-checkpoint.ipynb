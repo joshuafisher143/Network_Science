{
 "cells": [
  {
   "cell_type": "code",
   "execution_count": 34,
   "id": "7a46437e-6d1e-4918-bca0-f1d5549ec9cb",
   "metadata": {},
   "outputs": [],
   "source": [
    "import pandas as pd\n",
    "import numpy as np\n",
    "import ast\n",
    "from sklearn import preprocessing\n",
    "from sklearn.model_selection import train_test_split\n",
    "from sklearn.svm import SVC\n",
    "from sklearn.model_selection import GridSearchCV\n",
    "from sklearn.metrics import confusion_matrix\n",
    "from sklearn.metrics import classification_report"
   ]
  },
  {
   "cell_type": "markdown",
   "id": "526db064-8d72-4e41-a297-7ed10d207f06",
   "metadata": {},
   "source": [
    "## Graph Model - No Updates"
   ]
  },
  {
   "cell_type": "markdown",
   "id": "9c44dc97-fb3f-4fe1-a582-3199af5d7a15",
   "metadata": {},
   "source": [
    "## Elective Graph ML"
   ]
  },
  {
   "cell_type": "markdown",
   "id": "378dedfa-1398-40f0-bd41-636eec6bf434",
   "metadata": {},
   "source": [
    "#### Model - GraphSAGE\n",
    "\n",
    "After some further research by the Seattle Kraken's analytics department, the team has decided to try to implement some graph machine learning into their methods to characterize NHL players. One model of interest is the GraphSAGE model that works to embed player features into float vectors. Using player nodes and the PLAYS_WITH edge, the GraphSAGE will transform player attributes into a useable format for a ML classification model. The model will be trained based of player degree which has been calculated based on how my PLAYS_WITH edges a certain player has. Following training, the model will return the player and their associated embedding vector. "
   ]
  },
  {
   "cell_type": "markdown",
   "id": "0209c06f-a25d-4595-bda9-5cbbb740cac4",
   "metadata": {},
   "source": [
    "#### Code\n",
    "\n",
    "CALL gds.graph.create('Player_sage', <br>\n",
    "&emsp;&emsp;&emsp;&emsp;                   'Player', {PLAYS_WITH: { <br>\n",
    "&emsp;&emsp;&emsp;&emsp;                          type: 'PLAYS_WITH', <br>\n",
    "&emsp;&emsp;&emsp;&emsp;                          orientation: 'UNDIRECTED'}})\n",
    "\n",
    "CALL gds.degree.mutate('Player_sage', {mutateProperty: 'degree'}) <br>\n",
    "YIELD nodePropertiesWritten\n",
    "\n",
    "\n",
    "CALL gds.beta.graphSage.train( <br>\n",
    "&emsp;&emsp;  'Player_sage', <br>\n",
    "&emsp;  { <br>\n",
    "&emsp;&emsp;    modelName: 'graphSage', <br>\n",
    "&emsp;&emsp;    featureProperties: ['degree'] <br>\n",
    "&emsp;&emsp;    learningRate:0.001, <br>\n",
    "&emsp;&emsp;    epochs:10 <br>\n",
    "&emsp;  } <br>\n",
    ")\n",
    "\n",
    "CALL gds.beta.graphSage.stream( <br>\n",
    "&emsp;&emsp;  'Player_sage', <br>\n",
    "&emsp;  { <br>\n",
    "&emsp;&emsp;    modelName: 'graphSage' <br>\n",
    "&emsp;  }) <br>\n",
    "YIELD nodeId, embedding <br>\n",
    "RETURN gds.util.asNode(nodeId).first_name + ' ' + gds.util.asNode(nodeId).last_name AS Player, embedding <br>"
   ]
  },
  {
   "cell_type": "code",
   "execution_count": 2,
   "id": "d32e0249-a0a4-43ab-9882-83b6afd969cc",
   "metadata": {},
   "outputs": [
    {
     "data": {
      "text/html": [
       "<div>\n",
       "<style scoped>\n",
       "    .dataframe tbody tr th:only-of-type {\n",
       "        vertical-align: middle;\n",
       "    }\n",
       "\n",
       "    .dataframe tbody tr th {\n",
       "        vertical-align: top;\n",
       "    }\n",
       "\n",
       "    .dataframe thead th {\n",
       "        text-align: right;\n",
       "    }\n",
       "</style>\n",
       "<table border=\"1\" class=\"dataframe\">\n",
       "  <thead>\n",
       "    <tr style=\"text-align: right;\">\n",
       "      <th></th>\n",
       "      <th>Player</th>\n",
       "      <th>embedding</th>\n",
       "    </tr>\n",
       "  </thead>\n",
       "  <tbody>\n",
       "    <tr>\n",
       "      <th>0</th>\n",
       "      <td>Shayne Gostisbehere</td>\n",
       "      <td>[0.11226033574093451,0.13159826734459273,0.122...</td>\n",
       "    </tr>\n",
       "    <tr>\n",
       "      <th>1</th>\n",
       "      <td>Claude Giroux</td>\n",
       "      <td>[0.11221969980490319,0.1318266041815291,0.1232...</td>\n",
       "    </tr>\n",
       "    <tr>\n",
       "      <th>2</th>\n",
       "      <td>Travis Konecny</td>\n",
       "      <td>[0.11223483076995378,0.13173648205579874,0.123...</td>\n",
       "    </tr>\n",
       "    <tr>\n",
       "      <th>3</th>\n",
       "      <td>Ivan Provorov</td>\n",
       "      <td>[0.11223948957578837,0.1317080497596955,0.1230...</td>\n",
       "    </tr>\n",
       "    <tr>\n",
       "      <th>4</th>\n",
       "      <td>Brandon Manning</td>\n",
       "      <td>[0.11225547090125365,0.13161756503640212,0.122...</td>\n",
       "    </tr>\n",
       "  </tbody>\n",
       "</table>\n",
       "</div>"
      ],
      "text/plain": [
       "                Player                                          embedding\n",
       "0  Shayne Gostisbehere  [0.11226033574093451,0.13159826734459273,0.122...\n",
       "1        Claude Giroux  [0.11221969980490319,0.1318266041815291,0.1232...\n",
       "2       Travis Konecny  [0.11223483076995378,0.13173648205579874,0.123...\n",
       "3        Ivan Provorov  [0.11223948957578837,0.1317080497596955,0.1230...\n",
       "4      Brandon Manning  [0.11225547090125365,0.13161756503640212,0.122..."
      ]
     },
     "execution_count": 2,
     "metadata": {},
     "output_type": "execute_result"
    }
   ],
   "source": [
    "sage_results = pd.read_csv('player_embeddings.csv')\n",
    "sage_results.head()"
   ]
  },
  {
   "cell_type": "code",
   "execution_count": 4,
   "id": "3593c56f-baee-41c8-8f5d-fcf7a789a25e",
   "metadata": {},
   "outputs": [],
   "source": [
    "#the embedding vectors are being read in as a string representation of a list. Apply ast.literal_eval to convert to list\n",
    "sage_results['embedding'] = sage_results['embedding'].apply(ast.literal_eval)"
   ]
  },
  {
   "cell_type": "code",
   "execution_count": 5,
   "id": "243c5d0f-c333-4e5e-9a43-b8e8f058535f",
   "metadata": {},
   "outputs": [],
   "source": [
    "#expand each embedding element into its own column\n",
    "embeddings = sage_results['embedding'].apply(pd.Series)\n",
    "embeddings = embeddings.rename(columns = lambda x: 'embedding_' + str(x))"
   ]
  },
  {
   "cell_type": "code",
   "execution_count": 6,
   "id": "16143cb5-2324-4399-9929-6ebcbf2fa6cc",
   "metadata": {},
   "outputs": [
    {
     "data": {
      "text/html": [
       "<div>\n",
       "<style scoped>\n",
       "    .dataframe tbody tr th:only-of-type {\n",
       "        vertical-align: middle;\n",
       "    }\n",
       "\n",
       "    .dataframe tbody tr th {\n",
       "        vertical-align: top;\n",
       "    }\n",
       "\n",
       "    .dataframe thead th {\n",
       "        text-align: right;\n",
       "    }\n",
       "</style>\n",
       "<table border=\"1\" class=\"dataframe\">\n",
       "  <thead>\n",
       "    <tr style=\"text-align: right;\">\n",
       "      <th></th>\n",
       "      <th>Player</th>\n",
       "      <th>embedding_0</th>\n",
       "      <th>embedding_1</th>\n",
       "      <th>embedding_2</th>\n",
       "      <th>embedding_3</th>\n",
       "      <th>embedding_4</th>\n",
       "      <th>embedding_5</th>\n",
       "      <th>embedding_6</th>\n",
       "      <th>embedding_7</th>\n",
       "      <th>embedding_8</th>\n",
       "      <th>...</th>\n",
       "      <th>embedding_54</th>\n",
       "      <th>embedding_55</th>\n",
       "      <th>embedding_56</th>\n",
       "      <th>embedding_57</th>\n",
       "      <th>embedding_58</th>\n",
       "      <th>embedding_59</th>\n",
       "      <th>embedding_60</th>\n",
       "      <th>embedding_61</th>\n",
       "      <th>embedding_62</th>\n",
       "      <th>embedding_63</th>\n",
       "    </tr>\n",
       "  </thead>\n",
       "  <tbody>\n",
       "    <tr>\n",
       "      <th>0</th>\n",
       "      <td>Shayne Gostisbehere</td>\n",
       "      <td>0.112260</td>\n",
       "      <td>0.131598</td>\n",
       "      <td>0.122953</td>\n",
       "      <td>0.148596</td>\n",
       "      <td>0.097817</td>\n",
       "      <td>0.088059</td>\n",
       "      <td>0.119645</td>\n",
       "      <td>0.148200</td>\n",
       "      <td>0.109250</td>\n",
       "      <td>...</td>\n",
       "      <td>0.150990</td>\n",
       "      <td>0.095985</td>\n",
       "      <td>0.161893</td>\n",
       "      <td>0.095068</td>\n",
       "      <td>0.153072</td>\n",
       "      <td>0.186881</td>\n",
       "      <td>0.133661</td>\n",
       "      <td>0.083386</td>\n",
       "      <td>0.175816</td>\n",
       "      <td>0.093023</td>\n",
       "    </tr>\n",
       "    <tr>\n",
       "      <th>1</th>\n",
       "      <td>Claude Giroux</td>\n",
       "      <td>0.112220</td>\n",
       "      <td>0.131827</td>\n",
       "      <td>0.123224</td>\n",
       "      <td>0.148910</td>\n",
       "      <td>0.097673</td>\n",
       "      <td>0.087653</td>\n",
       "      <td>0.119305</td>\n",
       "      <td>0.148010</td>\n",
       "      <td>0.108965</td>\n",
       "      <td>...</td>\n",
       "      <td>0.150739</td>\n",
       "      <td>0.095582</td>\n",
       "      <td>0.161601</td>\n",
       "      <td>0.094364</td>\n",
       "      <td>0.152951</td>\n",
       "      <td>0.187348</td>\n",
       "      <td>0.134062</td>\n",
       "      <td>0.083049</td>\n",
       "      <td>0.176651</td>\n",
       "      <td>0.092888</td>\n",
       "    </tr>\n",
       "    <tr>\n",
       "      <th>2</th>\n",
       "      <td>Travis Konecny</td>\n",
       "      <td>0.112235</td>\n",
       "      <td>0.131736</td>\n",
       "      <td>0.123127</td>\n",
       "      <td>0.148793</td>\n",
       "      <td>0.097722</td>\n",
       "      <td>0.087796</td>\n",
       "      <td>0.119430</td>\n",
       "      <td>0.148084</td>\n",
       "      <td>0.109067</td>\n",
       "      <td>...</td>\n",
       "      <td>0.150830</td>\n",
       "      <td>0.095729</td>\n",
       "      <td>0.161717</td>\n",
       "      <td>0.094628</td>\n",
       "      <td>0.153002</td>\n",
       "      <td>0.187180</td>\n",
       "      <td>0.133922</td>\n",
       "      <td>0.083164</td>\n",
       "      <td>0.176339</td>\n",
       "      <td>0.092935</td>\n",
       "    </tr>\n",
       "    <tr>\n",
       "      <th>3</th>\n",
       "      <td>Ivan Provorov</td>\n",
       "      <td>0.112239</td>\n",
       "      <td>0.131708</td>\n",
       "      <td>0.123098</td>\n",
       "      <td>0.148756</td>\n",
       "      <td>0.097737</td>\n",
       "      <td>0.087840</td>\n",
       "      <td>0.119468</td>\n",
       "      <td>0.148107</td>\n",
       "      <td>0.109097</td>\n",
       "      <td>...</td>\n",
       "      <td>0.150857</td>\n",
       "      <td>0.095775</td>\n",
       "      <td>0.161754</td>\n",
       "      <td>0.094709</td>\n",
       "      <td>0.153018</td>\n",
       "      <td>0.187128</td>\n",
       "      <td>0.133879</td>\n",
       "      <td>0.083198</td>\n",
       "      <td>0.176243</td>\n",
       "      <td>0.092949</td>\n",
       "    </tr>\n",
       "    <tr>\n",
       "      <th>4</th>\n",
       "      <td>Brandon Manning</td>\n",
       "      <td>0.112255</td>\n",
       "      <td>0.131618</td>\n",
       "      <td>0.122989</td>\n",
       "      <td>0.148631</td>\n",
       "      <td>0.097795</td>\n",
       "      <td>0.088003</td>\n",
       "      <td>0.119603</td>\n",
       "      <td>0.148182</td>\n",
       "      <td>0.109213</td>\n",
       "      <td>...</td>\n",
       "      <td>0.150959</td>\n",
       "      <td>0.095935</td>\n",
       "      <td>0.161869</td>\n",
       "      <td>0.094990</td>\n",
       "      <td>0.153065</td>\n",
       "      <td>0.186941</td>\n",
       "      <td>0.133717</td>\n",
       "      <td>0.083334</td>\n",
       "      <td>0.175909</td>\n",
       "      <td>0.093003</td>\n",
       "    </tr>\n",
       "  </tbody>\n",
       "</table>\n",
       "<p>5 rows × 65 columns</p>\n",
       "</div>"
      ],
      "text/plain": [
       "                Player  embedding_0  embedding_1  embedding_2  embedding_3  \\\n",
       "0  Shayne Gostisbehere     0.112260     0.131598     0.122953     0.148596   \n",
       "1        Claude Giroux     0.112220     0.131827     0.123224     0.148910   \n",
       "2       Travis Konecny     0.112235     0.131736     0.123127     0.148793   \n",
       "3        Ivan Provorov     0.112239     0.131708     0.123098     0.148756   \n",
       "4      Brandon Manning     0.112255     0.131618     0.122989     0.148631   \n",
       "\n",
       "   embedding_4  embedding_5  embedding_6  embedding_7  embedding_8  ...  \\\n",
       "0     0.097817     0.088059     0.119645     0.148200     0.109250  ...   \n",
       "1     0.097673     0.087653     0.119305     0.148010     0.108965  ...   \n",
       "2     0.097722     0.087796     0.119430     0.148084     0.109067  ...   \n",
       "3     0.097737     0.087840     0.119468     0.148107     0.109097  ...   \n",
       "4     0.097795     0.088003     0.119603     0.148182     0.109213  ...   \n",
       "\n",
       "   embedding_54  embedding_55  embedding_56  embedding_57  embedding_58  \\\n",
       "0      0.150990      0.095985      0.161893      0.095068      0.153072   \n",
       "1      0.150739      0.095582      0.161601      0.094364      0.152951   \n",
       "2      0.150830      0.095729      0.161717      0.094628      0.153002   \n",
       "3      0.150857      0.095775      0.161754      0.094709      0.153018   \n",
       "4      0.150959      0.095935      0.161869      0.094990      0.153065   \n",
       "\n",
       "   embedding_59  embedding_60  embedding_61  embedding_62  embedding_63  \n",
       "0      0.186881      0.133661      0.083386      0.175816      0.093023  \n",
       "1      0.187348      0.134062      0.083049      0.176651      0.092888  \n",
       "2      0.187180      0.133922      0.083164      0.176339      0.092935  \n",
       "3      0.187128      0.133879      0.083198      0.176243      0.092949  \n",
       "4      0.186941      0.133717      0.083334      0.175909      0.093003  \n",
       "\n",
       "[5 rows x 65 columns]"
      ]
     },
     "execution_count": 6,
     "metadata": {},
     "output_type": "execute_result"
    }
   ],
   "source": [
    "#concatentate the embedding columns with the original player names\n",
    "concat_sage = pd.concat([sage_results['Player'], embeddings],axis=1)\n",
    "concat_sage.head()"
   ]
  },
  {
   "cell_type": "markdown",
   "id": "23705cbc-2b12-47b3-a8b0-600a692dfd03",
   "metadata": {},
   "source": [
    "#### Classification model - let's see if we can predict the player's goals based on their embeddings"
   ]
  },
  {
   "cell_type": "code",
   "execution_count": 20,
   "id": "85a6376a-d0b5-4c4e-a0fe-cba7b1760bf0",
   "metadata": {},
   "outputs": [
    {
     "data": {
      "text/html": [
       "<div>\n",
       "<style scoped>\n",
       "    .dataframe tbody tr th:only-of-type {\n",
       "        vertical-align: middle;\n",
       "    }\n",
       "\n",
       "    .dataframe tbody tr th {\n",
       "        vertical-align: top;\n",
       "    }\n",
       "\n",
       "    .dataframe thead th {\n",
       "        text-align: right;\n",
       "    }\n",
       "</style>\n",
       "<table border=\"1\" class=\"dataframe\">\n",
       "  <thead>\n",
       "    <tr style=\"text-align: right;\">\n",
       "      <th></th>\n",
       "      <th>game_id</th>\n",
       "      <th>firstName</th>\n",
       "      <th>lastName</th>\n",
       "      <th>goals</th>\n",
       "    </tr>\n",
       "  </thead>\n",
       "  <tbody>\n",
       "    <tr>\n",
       "      <th>25937</th>\n",
       "      <td>2019020001</td>\n",
       "      <td>Dylan</td>\n",
       "      <td>DeMelo</td>\n",
       "      <td>0</td>\n",
       "    </tr>\n",
       "    <tr>\n",
       "      <th>25101</th>\n",
       "      <td>2019020001</td>\n",
       "      <td>Mark</td>\n",
       "      <td>Borowiecki</td>\n",
       "      <td>0</td>\n",
       "    </tr>\n",
       "    <tr>\n",
       "      <th>1233</th>\n",
       "      <td>2019020001</td>\n",
       "      <td>Artem</td>\n",
       "      <td>Anisimov</td>\n",
       "      <td>0</td>\n",
       "    </tr>\n",
       "    <tr>\n",
       "      <th>37697</th>\n",
       "      <td>2019020001</td>\n",
       "      <td>Scott</td>\n",
       "      <td>Sabourin</td>\n",
       "      <td>1</td>\n",
       "    </tr>\n",
       "    <tr>\n",
       "      <th>7788</th>\n",
       "      <td>2019020001</td>\n",
       "      <td>Morgan</td>\n",
       "      <td>Rielly</td>\n",
       "      <td>0</td>\n",
       "    </tr>\n",
       "  </tbody>\n",
       "</table>\n",
       "</div>"
      ],
      "text/plain": [
       "          game_id firstName    lastName  goals\n",
       "25937  2019020001     Dylan      DeMelo      0\n",
       "25101  2019020001      Mark  Borowiecki      0\n",
       "1233   2019020001     Artem    Anisimov      0\n",
       "37697  2019020001     Scott    Sabourin      1\n",
       "7788   2019020001    Morgan      Rielly      0"
      ]
     },
     "execution_count": 20,
     "metadata": {},
     "output_type": "execute_result"
    }
   ],
   "source": [
    "stats = pd.read_csv('first_300_game_stats.csv', index_col=0)\n",
    "stats.head()"
   ]
  },
  {
   "cell_type": "code",
   "execution_count": 21,
   "id": "21455a81-0aa6-4870-a683-469696dc4524",
   "metadata": {},
   "outputs": [],
   "source": [
    "stats['Player'] = stats['firstName'] + ' ' + stats['lastName']\n",
    "stats = stats[['Player', 'goals']].copy()"
   ]
  },
  {
   "cell_type": "code",
   "execution_count": 22,
   "id": "58fe0307-2ff4-453c-8be5-d6720952227d",
   "metadata": {},
   "outputs": [
    {
     "data": {
      "text/html": [
       "<div>\n",
       "<style scoped>\n",
       "    .dataframe tbody tr th:only-of-type {\n",
       "        vertical-align: middle;\n",
       "    }\n",
       "\n",
       "    .dataframe tbody tr th {\n",
       "        vertical-align: top;\n",
       "    }\n",
       "\n",
       "    .dataframe thead th {\n",
       "        text-align: right;\n",
       "    }\n",
       "</style>\n",
       "<table border=\"1\" class=\"dataframe\">\n",
       "  <thead>\n",
       "    <tr style=\"text-align: right;\">\n",
       "      <th></th>\n",
       "      <th>Player</th>\n",
       "      <th>goals</th>\n",
       "    </tr>\n",
       "  </thead>\n",
       "  <tbody>\n",
       "    <tr>\n",
       "      <th>187</th>\n",
       "      <td>David Pastrnak</td>\n",
       "      <td>17</td>\n",
       "    </tr>\n",
       "    <tr>\n",
       "      <th>408</th>\n",
       "      <td>Leon Draisaitl</td>\n",
       "      <td>16</td>\n",
       "    </tr>\n",
       "    <tr>\n",
       "      <th>62</th>\n",
       "      <td>Auston Matthews</td>\n",
       "      <td>14</td>\n",
       "    </tr>\n",
       "    <tr>\n",
       "      <th>165</th>\n",
       "      <td>Connor McDavid</td>\n",
       "      <td>14</td>\n",
       "    </tr>\n",
       "    <tr>\n",
       "      <th>22</th>\n",
       "      <td>Alex Ovechkin</td>\n",
       "      <td>14</td>\n",
       "    </tr>\n",
       "    <tr>\n",
       "      <th>...</th>\n",
       "      <td>...</td>\n",
       "      <td>...</td>\n",
       "    </tr>\n",
       "    <tr>\n",
       "      <th>280</th>\n",
       "      <td>Jacob Middleton</td>\n",
       "      <td>0</td>\n",
       "    </tr>\n",
       "    <tr>\n",
       "      <th>561</th>\n",
       "      <td>Paul Carey</td>\n",
       "      <td>0</td>\n",
       "    </tr>\n",
       "    <tr>\n",
       "      <th>271</th>\n",
       "      <td>J.C. Beaudin</td>\n",
       "      <td>0</td>\n",
       "    </tr>\n",
       "    <tr>\n",
       "      <th>268</th>\n",
       "      <td>Isac Lundestrom</td>\n",
       "      <td>0</td>\n",
       "    </tr>\n",
       "    <tr>\n",
       "      <th>589</th>\n",
       "      <td>Robert Hagg</td>\n",
       "      <td>0</td>\n",
       "    </tr>\n",
       "  </tbody>\n",
       "</table>\n",
       "<p>733 rows × 2 columns</p>\n",
       "</div>"
      ],
      "text/plain": [
       "              Player  goals\n",
       "187   David Pastrnak     17\n",
       "408   Leon Draisaitl     16\n",
       "62   Auston Matthews     14\n",
       "165   Connor McDavid     14\n",
       "22     Alex Ovechkin     14\n",
       "..               ...    ...\n",
       "280  Jacob Middleton      0\n",
       "561       Paul Carey      0\n",
       "271     J.C. Beaudin      0\n",
       "268  Isac Lundestrom      0\n",
       "589      Robert Hagg      0\n",
       "\n",
       "[733 rows x 2 columns]"
      ]
     },
     "execution_count": 22,
     "metadata": {},
     "output_type": "execute_result"
    }
   ],
   "source": [
    "#group by player to count the number of goals they scored in the dataset\n",
    "season_stats = stats.groupby('Player').sum()['goals'].reset_index()\n",
    "season_stats.sort_values('goals', ascending=False)"
   ]
  },
  {
   "cell_type": "markdown",
   "id": "4d4894bf-f171-4e5a-aaf4-7e7e35035da9",
   "metadata": {},
   "source": [
    "#### For simplicity sake, I am converting number of goals into three categories: 10 goals and up = 3, 6-10 goals = 2, 5 and below = 1"
   ]
  },
  {
   "cell_type": "code",
   "execution_count": 23,
   "id": "195a04b4-52f9-4cdf-9753-d6e84c1d38a5",
   "metadata": {},
   "outputs": [
    {
     "data": {
      "text/html": [
       "<div>\n",
       "<style scoped>\n",
       "    .dataframe tbody tr th:only-of-type {\n",
       "        vertical-align: middle;\n",
       "    }\n",
       "\n",
       "    .dataframe tbody tr th {\n",
       "        vertical-align: top;\n",
       "    }\n",
       "\n",
       "    .dataframe thead th {\n",
       "        text-align: right;\n",
       "    }\n",
       "</style>\n",
       "<table border=\"1\" class=\"dataframe\">\n",
       "  <thead>\n",
       "    <tr style=\"text-align: right;\">\n",
       "      <th></th>\n",
       "      <th>Player</th>\n",
       "      <th>goals</th>\n",
       "    </tr>\n",
       "  </thead>\n",
       "  <tbody>\n",
       "    <tr>\n",
       "      <th>22</th>\n",
       "      <td>Alex Ovechkin</td>\n",
       "      <td>3</td>\n",
       "    </tr>\n",
       "    <tr>\n",
       "      <th>88</th>\n",
       "      <td>Brayden Schenn</td>\n",
       "      <td>3</td>\n",
       "    </tr>\n",
       "    <tr>\n",
       "      <th>165</th>\n",
       "      <td>Connor McDavid</td>\n",
       "      <td>3</td>\n",
       "    </tr>\n",
       "    <tr>\n",
       "      <th>463</th>\n",
       "      <td>Matthew Tkachuk</td>\n",
       "      <td>3</td>\n",
       "    </tr>\n",
       "    <tr>\n",
       "      <th>187</th>\n",
       "      <td>David Pastrnak</td>\n",
       "      <td>3</td>\n",
       "    </tr>\n",
       "    <tr>\n",
       "      <th>...</th>\n",
       "      <td>...</td>\n",
       "      <td>...</td>\n",
       "    </tr>\n",
       "    <tr>\n",
       "      <th>267</th>\n",
       "      <td>Ilya Mikheyev</td>\n",
       "      <td>1</td>\n",
       "    </tr>\n",
       "    <tr>\n",
       "      <th>268</th>\n",
       "      <td>Isac Lundestrom</td>\n",
       "      <td>1</td>\n",
       "    </tr>\n",
       "    <tr>\n",
       "      <th>269</th>\n",
       "      <td>Ivan Barbashev</td>\n",
       "      <td>1</td>\n",
       "    </tr>\n",
       "    <tr>\n",
       "      <th>270</th>\n",
       "      <td>Ivan Provorov</td>\n",
       "      <td>1</td>\n",
       "    </tr>\n",
       "    <tr>\n",
       "      <th>732</th>\n",
       "      <td>Zemgus Girgensons</td>\n",
       "      <td>1</td>\n",
       "    </tr>\n",
       "  </tbody>\n",
       "</table>\n",
       "<p>733 rows × 2 columns</p>\n",
       "</div>"
      ],
      "text/plain": [
       "                Player  goals\n",
       "22       Alex Ovechkin      3\n",
       "88      Brayden Schenn      3\n",
       "165     Connor McDavid      3\n",
       "463    Matthew Tkachuk      3\n",
       "187     David Pastrnak      3\n",
       "..                 ...    ...\n",
       "267      Ilya Mikheyev      1\n",
       "268    Isac Lundestrom      1\n",
       "269     Ivan Barbashev      1\n",
       "270      Ivan Provorov      1\n",
       "732  Zemgus Girgensons      1\n",
       "\n",
       "[733 rows x 2 columns]"
      ]
     },
     "execution_count": 23,
     "metadata": {},
     "output_type": "execute_result"
    }
   ],
   "source": [
    "season_stats['goals'] = np.where(season_stats['goals'] >= 10, 3, (np.where(season_stats['goals'] <= 5, 1, 2)))\n",
    "season_stats.sort_values('goals', ascending=False)"
   ]
  },
  {
   "cell_type": "code",
   "execution_count": 24,
   "id": "a9b3d96a-2362-40ea-a01a-2ef5e7e82082",
   "metadata": {},
   "outputs": [
    {
     "data": {
      "text/html": [
       "<div>\n",
       "<style scoped>\n",
       "    .dataframe tbody tr th:only-of-type {\n",
       "        vertical-align: middle;\n",
       "    }\n",
       "\n",
       "    .dataframe tbody tr th {\n",
       "        vertical-align: top;\n",
       "    }\n",
       "\n",
       "    .dataframe thead th {\n",
       "        text-align: right;\n",
       "    }\n",
       "</style>\n",
       "<table border=\"1\" class=\"dataframe\">\n",
       "  <thead>\n",
       "    <tr style=\"text-align: right;\">\n",
       "      <th></th>\n",
       "      <th>Player</th>\n",
       "      <th>goals</th>\n",
       "      <th>embedding_0</th>\n",
       "      <th>embedding_1</th>\n",
       "      <th>embedding_2</th>\n",
       "      <th>embedding_3</th>\n",
       "      <th>embedding_4</th>\n",
       "      <th>embedding_5</th>\n",
       "      <th>embedding_6</th>\n",
       "      <th>embedding_7</th>\n",
       "      <th>...</th>\n",
       "      <th>embedding_54</th>\n",
       "      <th>embedding_55</th>\n",
       "      <th>embedding_56</th>\n",
       "      <th>embedding_57</th>\n",
       "      <th>embedding_58</th>\n",
       "      <th>embedding_59</th>\n",
       "      <th>embedding_60</th>\n",
       "      <th>embedding_61</th>\n",
       "      <th>embedding_62</th>\n",
       "      <th>embedding_63</th>\n",
       "    </tr>\n",
       "  </thead>\n",
       "  <tbody>\n",
       "    <tr>\n",
       "      <th>0</th>\n",
       "      <td>Aaron Ekblad</td>\n",
       "      <td>1</td>\n",
       "      <td>0.112265</td>\n",
       "      <td>0.131563</td>\n",
       "      <td>0.122925</td>\n",
       "      <td>0.148558</td>\n",
       "      <td>0.097828</td>\n",
       "      <td>0.088098</td>\n",
       "      <td>0.119682</td>\n",
       "      <td>0.148227</td>\n",
       "      <td>...</td>\n",
       "      <td>0.151018</td>\n",
       "      <td>0.096030</td>\n",
       "      <td>0.161937</td>\n",
       "      <td>0.095156</td>\n",
       "      <td>0.153093</td>\n",
       "      <td>0.186831</td>\n",
       "      <td>0.133623</td>\n",
       "      <td>0.083413</td>\n",
       "      <td>0.175712</td>\n",
       "      <td>0.093035</td>\n",
       "    </tr>\n",
       "    <tr>\n",
       "      <th>1</th>\n",
       "      <td>Aaron Ness</td>\n",
       "      <td>1</td>\n",
       "      <td>0.112290</td>\n",
       "      <td>0.131449</td>\n",
       "      <td>0.122742</td>\n",
       "      <td>0.148369</td>\n",
       "      <td>0.097936</td>\n",
       "      <td>0.088375</td>\n",
       "      <td>0.119899</td>\n",
       "      <td>0.148328</td>\n",
       "      <td>...</td>\n",
       "      <td>0.151179</td>\n",
       "      <td>0.096287</td>\n",
       "      <td>0.162081</td>\n",
       "      <td>0.095576</td>\n",
       "      <td>0.153144</td>\n",
       "      <td>0.186522</td>\n",
       "      <td>0.133343</td>\n",
       "      <td>0.083663</td>\n",
       "      <td>0.175210</td>\n",
       "      <td>0.093131</td>\n",
       "    </tr>\n",
       "    <tr>\n",
       "      <th>2</th>\n",
       "      <td>Adam Boqvist</td>\n",
       "      <td>1</td>\n",
       "      <td>0.112257</td>\n",
       "      <td>0.131609</td>\n",
       "      <td>0.122982</td>\n",
       "      <td>0.148622</td>\n",
       "      <td>0.097798</td>\n",
       "      <td>0.088013</td>\n",
       "      <td>0.119612</td>\n",
       "      <td>0.148189</td>\n",
       "      <td>...</td>\n",
       "      <td>0.150965</td>\n",
       "      <td>0.095946</td>\n",
       "      <td>0.161880</td>\n",
       "      <td>0.095012</td>\n",
       "      <td>0.153070</td>\n",
       "      <td>0.186928</td>\n",
       "      <td>0.133708</td>\n",
       "      <td>0.083341</td>\n",
       "      <td>0.175883</td>\n",
       "      <td>0.093006</td>\n",
       "    </tr>\n",
       "    <tr>\n",
       "      <th>3</th>\n",
       "      <td>Adam Erne</td>\n",
       "      <td>1</td>\n",
       "      <td>0.112265</td>\n",
       "      <td>0.131574</td>\n",
       "      <td>0.122919</td>\n",
       "      <td>0.148560</td>\n",
       "      <td>0.097836</td>\n",
       "      <td>0.088109</td>\n",
       "      <td>0.119685</td>\n",
       "      <td>0.148220</td>\n",
       "      <td>...</td>\n",
       "      <td>0.151020</td>\n",
       "      <td>0.096033</td>\n",
       "      <td>0.161923</td>\n",
       "      <td>0.095149</td>\n",
       "      <td>0.153084</td>\n",
       "      <td>0.186824</td>\n",
       "      <td>0.133611</td>\n",
       "      <td>0.083430</td>\n",
       "      <td>0.175720</td>\n",
       "      <td>0.093040</td>\n",
       "    </tr>\n",
       "    <tr>\n",
       "      <th>4</th>\n",
       "      <td>Adam Fox</td>\n",
       "      <td>1</td>\n",
       "      <td>0.112259</td>\n",
       "      <td>0.131603</td>\n",
       "      <td>0.122962</td>\n",
       "      <td>0.148606</td>\n",
       "      <td>0.097811</td>\n",
       "      <td>0.088045</td>\n",
       "      <td>0.119632</td>\n",
       "      <td>0.148195</td>\n",
       "      <td>...</td>\n",
       "      <td>0.150983</td>\n",
       "      <td>0.095971</td>\n",
       "      <td>0.161886</td>\n",
       "      <td>0.095047</td>\n",
       "      <td>0.153070</td>\n",
       "      <td>0.186896</td>\n",
       "      <td>0.133675</td>\n",
       "      <td>0.083373</td>\n",
       "      <td>0.175840</td>\n",
       "      <td>0.093017</td>\n",
       "    </tr>\n",
       "  </tbody>\n",
       "</table>\n",
       "<p>5 rows × 66 columns</p>\n",
       "</div>"
      ],
      "text/plain": [
       "         Player  goals  embedding_0  embedding_1  embedding_2  embedding_3  \\\n",
       "0  Aaron Ekblad      1     0.112265     0.131563     0.122925     0.148558   \n",
       "1    Aaron Ness      1     0.112290     0.131449     0.122742     0.148369   \n",
       "2  Adam Boqvist      1     0.112257     0.131609     0.122982     0.148622   \n",
       "3     Adam Erne      1     0.112265     0.131574     0.122919     0.148560   \n",
       "4      Adam Fox      1     0.112259     0.131603     0.122962     0.148606   \n",
       "\n",
       "   embedding_4  embedding_5  embedding_6  embedding_7  ...  embedding_54  \\\n",
       "0     0.097828     0.088098     0.119682     0.148227  ...      0.151018   \n",
       "1     0.097936     0.088375     0.119899     0.148328  ...      0.151179   \n",
       "2     0.097798     0.088013     0.119612     0.148189  ...      0.150965   \n",
       "3     0.097836     0.088109     0.119685     0.148220  ...      0.151020   \n",
       "4     0.097811     0.088045     0.119632     0.148195  ...      0.150983   \n",
       "\n",
       "   embedding_55  embedding_56  embedding_57  embedding_58  embedding_59  \\\n",
       "0      0.096030      0.161937      0.095156      0.153093      0.186831   \n",
       "1      0.096287      0.162081      0.095576      0.153144      0.186522   \n",
       "2      0.095946      0.161880      0.095012      0.153070      0.186928   \n",
       "3      0.096033      0.161923      0.095149      0.153084      0.186824   \n",
       "4      0.095971      0.161886      0.095047      0.153070      0.186896   \n",
       "\n",
       "   embedding_60  embedding_61  embedding_62  embedding_63  \n",
       "0      0.133623      0.083413      0.175712      0.093035  \n",
       "1      0.133343      0.083663      0.175210      0.093131  \n",
       "2      0.133708      0.083341      0.175883      0.093006  \n",
       "3      0.133611      0.083430      0.175720      0.093040  \n",
       "4      0.133675      0.083373      0.175840      0.093017  \n",
       "\n",
       "[5 rows x 66 columns]"
      ]
     },
     "execution_count": 24,
     "metadata": {},
     "output_type": "execute_result"
    }
   ],
   "source": [
    "sage_players_merge = season_stats.merge(concat_sage, on='Player')\n",
    "sage_players_merge.head()"
   ]
  },
  {
   "cell_type": "code",
   "execution_count": 30,
   "id": "195c02da-ed34-4afa-ab60-877b6f4be117",
   "metadata": {},
   "outputs": [
    {
     "data": {
      "text/plain": [
       "1    624\n",
       "2     89\n",
       "3     20\n",
       "Name: goals, dtype: int64"
      ]
     },
     "execution_count": 30,
     "metadata": {},
     "output_type": "execute_result"
    }
   ],
   "source": [
    "sage_players_merge['goals'].value_counts()"
   ]
  },
  {
   "cell_type": "code",
   "execution_count": 25,
   "id": "2a12d3b4-5c12-42c3-bb49-159ad42693f8",
   "metadata": {},
   "outputs": [],
   "source": [
    "X = sage_players_merge.drop(columns=['Player', 'goals'])\n",
    "y = sage_players_merge['goals']\n",
    "\n",
    "X_train, X_test, y_train, y_test = train_test_split(X, y, test_size=0.33, random_state=42)"
   ]
  },
  {
   "cell_type": "code",
   "execution_count": 31,
   "id": "28248998-b1b5-428f-b769-bfaa74618ea4",
   "metadata": {},
   "outputs": [
    {
     "data": {
      "text/plain": [
       "GridSearchCV(estimator=SVC(class_weight='balanced'),\n",
       "             param_grid={'C': (1.0, 0.8, 0.6, 0.4, 0.2, 0.1, 0.01),\n",
       "                         'degree': (5, 4, 3, 2, 1),\n",
       "                         'kernel': ('linear', 'poly', 'rbf')})"
      ]
     },
     "execution_count": 31,
     "metadata": {},
     "output_type": "execute_result"
    }
   ],
   "source": [
    "parameters = {'kernel': ('linear', 'poly', 'rbf'), 'C':(1.0, 0.8, 0.6, 0.4, 0.2, 0.1, 0.01), 'degree':(5,4,3,2,1)}\n",
    "\n",
    "svc = SVC(class_weight='balanced')\n",
    "\n",
    "grid = GridSearchCV(svc, parameters)\n",
    "\n",
    "grid.fit(X_train, y_train)"
   ]
  },
  {
   "cell_type": "code",
   "execution_count": 32,
   "id": "d1138436-befa-42a0-96e0-3b0dfa6c0a14",
   "metadata": {},
   "outputs": [
    {
     "data": {
      "text/plain": [
       "{'C': 0.2, 'degree': 5, 'kernel': 'poly'}"
      ]
     },
     "execution_count": 32,
     "metadata": {},
     "output_type": "execute_result"
    }
   ],
   "source": [
    "grid.best_params_"
   ]
  },
  {
   "cell_type": "code",
   "execution_count": 33,
   "id": "498b0fcf-61c9-4266-bc6a-81e40ab57914",
   "metadata": {},
   "outputs": [
    {
     "data": {
      "text/plain": [
       "array([[83, 86, 37],\n",
       "       [ 9,  8, 11],\n",
       "       [ 2,  4,  2]], dtype=int64)"
      ]
     },
     "execution_count": 33,
     "metadata": {},
     "output_type": "execute_result"
    }
   ],
   "source": [
    "grid_pred = grid.predict(X_test)\n",
    "\n",
    "confusion_matrix(y_test, grid_pred)"
   ]
  },
  {
   "cell_type": "code",
   "execution_count": 36,
   "id": "fdf393a6-c329-46ec-b1de-5274995068c0",
   "metadata": {},
   "outputs": [
    {
     "name": "stdout",
     "output_type": "stream",
     "text": [
      "              precision    recall  f1-score   support\n",
      "\n",
      "     class 1       0.88      0.40      0.55       206\n",
      "     class 2       0.08      0.29      0.13        28\n",
      "     class 3       0.04      0.25      0.07         8\n",
      "\n",
      "    accuracy                           0.38       242\n",
      "   macro avg       0.33      0.31      0.25       242\n",
      "weighted avg       0.76      0.38      0.49       242\n",
      "\n"
     ]
    }
   ],
   "source": [
    "print(classification_report(y_test, grid_pred, target_names=['class 1', 'class 2', 'class 3']))"
   ]
  },
  {
   "cell_type": "markdown",
   "id": "6f23c99f-27c1-4232-b2ec-7d0173d9bef4",
   "metadata": {},
   "source": [
    "#### As you can see the model worked ok. The dataset suffers from an imbalanced target variable, but the SVC class_weight parameter helps to mitigate that effect. The model was best at classifying the first class, players that have not scored many goals. This is expected as this class is the majority of the players. Further optimization is needed to more accurately classify the other classes. \n",
    "\n",
    "\n",
    "#### This notebook is a great example of how to use player embeddings as feature inputs into a classification model. An optimized model would be valuable in providing the ability to predict roughly how many goals a player will score. Goals provide direct value to a team"
   ]
  },
  {
   "cell_type": "markdown",
   "id": "add88325-ccd7-4945-b685-b3a43e66070a",
   "metadata": {},
   "source": [
    "## Cypher Action 1"
   ]
  },
  {
   "cell_type": "markdown",
   "id": "6861c28a-df00-4c44-aa96-7515fbeb7ba9",
   "metadata": {},
   "source": [
    "#### Search Phrase\n",
    "\n",
    "\"Which player have been involved in most goals and assists plays with Player $last_name\""
   ]
  },
  {
   "cell_type": "markdown",
   "id": "6ba4c393-49a6-4e30-bac6-fd1df13d0450",
   "metadata": {},
   "source": [
    "#### Description\n",
    "\n",
    "Find other plays who are connected to the player of interest when the play event was either a goal or an assist"
   ]
  },
  {
   "cell_type": "markdown",
   "id": "52536218-34f3-4382-a3cd-b35f6f691945",
   "metadata": {},
   "source": [
    "#### Code \n",
    "\n",
    "MATCH (p1:Player {last_name:$last_name})-[i1:INVOLVES]-(pl:Play)-[i2:INVOLVES]-(p2:Player) <br>\n",
    "WHERE i1.event IN ['Goal','Assist'] <br>\n",
    "WITH p1,i1, pl,i2,p2 ,count(i1.event) AS degree <br>\n",
    "RETURN p1, i1, pl,i2,p2 <br>\n",
    "ORDER BY degree DESC <br>"
   ]
  },
  {
   "cell_type": "markdown",
   "id": "7e4188cd-9b85-486d-bb11-e3ca64fa7747",
   "metadata": {},
   "source": [
    "#### Importance\n",
    "\n",
    "Goals and assists are the most important aspects to a hockey game. Goals win games. Therefore, it is important to know who is invovled in the most plays in which a goal or assist occured. This cypher action allows a user to input a players last name and determine which players were also involved in that play. This gives the user an idea of who that player plays well with and thus who they have chemistry with. Chemistry among plays is a very important part of hockey as players that do not play well together will not score goals. "
   ]
  },
  {
   "cell_type": "markdown",
   "id": "f53e2366-5773-4529-b235-45ae3274a8dc",
   "metadata": {},
   "source": [
    "## Cypher Action 2"
   ]
  },
  {
   "cell_type": "markdown",
   "id": "894b9b43-126d-4be7-86b3-9ef56ed1ff57",
   "metadata": {},
   "source": [
    "#### Search Phrase\n",
    "\n",
    "\"Which players are in the community $community\""
   ]
  },
  {
   "cell_type": "markdown",
   "id": "a05535d4-4c01-4b0b-b25b-5269c2c6f87c",
   "metadata": {},
   "source": [
    "#### Description\n",
    "\n",
    "Find the players that are similar to each other by visualizing a community via community ID lookup"
   ]
  },
  {
   "cell_type": "markdown",
   "id": "02822e33-be60-4696-bf98-298c2b52a35f",
   "metadata": {},
   "source": [
    "#### Code\n",
    "\n",
    "MATCH (p1:Player)-[r:PLAYS_WITH]-(p2:Player) <br>\n",
    "WHERE p1.community = \\\\$community AND p2.community = \\\\$community <br>\n",
    "RETURN p1, p2"
   ]
  },
  {
   "cell_type": "markdown",
   "id": "193ec34d-40fe-4663-88b2-87d874a4388c",
   "metadata": {},
   "source": [
    "#### Importance\n",
    "\n",
    "Using the modularity optimization results previously calculated, this cypher action allows the user to identify players who are in the same community. If the team has found a player that they deemed skilled, this action allows them to search for players who are similar via community ID. Good players are likely associated with other good players"
   ]
  },
  {
   "cell_type": "markdown",
   "id": "e27f272b-7dd5-450b-b85f-3e75a4b59ab0",
   "metadata": {},
   "source": [
    "## Visualization 1"
   ]
  },
  {
   "cell_type": "markdown",
   "id": "f1d28990-5acf-4bef-beac-e324ab363271",
   "metadata": {},
   "source": [
    "#### Top 10 Players by PageRank and their connection to other players, ranked by degree of connections\n",
    "\n",
    "Cypher Query: <br>\n",
    "\n",
    "MATCH (p:Player) WHERE EXISTS (p.pagerank) <br>\n",
    "WITH p ORDER BY p.pagerank DESC LIMIT 10 <br>\n",
    "CALL apoc.cypher.run(\" <br>\n",
    "&emsp;&emsp;    MATCH (p)<-[r:PLAYS_WITH]-(p2) <br>\n",
    "&emsp;&emsp;    WITH p,p2,r, SIZE((p)<-[r:PLAYS_WITH]-(p2)) as plays_with_degree <br>\n",
    "&emsp;&emsp;    RETURN p,r, p2 <br>\n",
    "&emsp;&emsp;    ORDER BY plays_with_degree DESC <br>\n",
    "&emsp;&emsp;    LIMIT 10\", {p:p}) YIELD value <br>\n",
    "RETURN value"
   ]
  },
  {
   "cell_type": "markdown",
   "id": "2894fc85-614b-40e3-b1c9-31a6f9e9e825",
   "metadata": {},
   "source": [
    "<table><tr>\n",
    "<td> <img src=\"viz1_overall_structure.png\" alt=\"Drawing\" style=\"width: 500px;\"/> </td>\n",
    "<td> <img src=\"viz1_zoomed.png\" alt=\"Drawing\" style=\"width: 1000px;\"/> </td>\n",
    "</tr></table>"
   ]
  },
  {
   "cell_type": "markdown",
   "id": "7ce4bf73-86e5-42d7-9da7-ad7a2c65d784",
   "metadata": {},
   "source": [
    "Above are two screenshots of visualization 1, left being a view of the overall structure while right is a zoomed in figure showing example nodes and connections. The overall structure shows there are two main clusters from this query. This is a monopartite graph showing player to player relationship based off the PLAYS_WITH edge. There are two features encoded into this graph. 1). Size of node is proportional to PageRank score, higher score = larger node 2.) Color signifies player position: Light Yellow = Center, Magenta = Right Wing, Cyan = Left Wing, and Orange = Defensemen. \n",
    "<br> <br>\n",
    "There is a lot of useful information in this graph. Here there is a visual representation of who the important players are, based off their PageRank scores. Extending outward, this graph helps to identify who these important players play with. This knowledge allows insight into who plays well whom if they're on the same team or plays well against if they're on another team. This knowledge can then be further broken down by player position."
   ]
  },
  {
   "cell_type": "markdown",
   "id": "723b371f-0eed-4dab-926f-f5cfc56efb5d",
   "metadata": {},
   "source": [
    "## Visualization 2"
   ]
  },
  {
   "cell_type": "markdown",
   "id": "78df36e1-0e4a-4835-a91c-3e087b27f216",
   "metadata": {},
   "source": [
    "Example use of Cypher Action 1: Which player have been involved in most goals and assists plays with Player Giroux"
   ]
  },
  {
   "cell_type": "markdown",
   "id": "ddb2f99d-550a-4824-8eca-4f93f1546471",
   "metadata": {},
   "source": [
    "<img src='viz2.png'>"
   ]
  },
  {
   "cell_type": "markdown",
   "id": "682ff319-a9d2-4f2c-a35d-376f4414cc63",
   "metadata": {},
   "source": [
    "Visualization 2 is an example of using a dynamic bloom search phrase to investigate which players are directly connected to Claude Giroux in when the associating play was a goal or an assist. Below we can see that players like Jakub Voracek and Ivan Provorov are highly connected to Claude Giroux across many goal/assist plays. This unveils who Giroux plays well with as well as implicitly identifying who he does not. "
   ]
  }
 ],
 "metadata": {
  "kernelspec": {
   "display_name": "Python 3",
   "language": "python",
   "name": "python3"
  },
  "language_info": {
   "codemirror_mode": {
    "name": "ipython",
    "version": 3
   },
   "file_extension": ".py",
   "mimetype": "text/x-python",
   "name": "python",
   "nbconvert_exporter": "python",
   "pygments_lexer": "ipython3",
   "version": "3.7.10"
  }
 },
 "nbformat": 4,
 "nbformat_minor": 5
}
